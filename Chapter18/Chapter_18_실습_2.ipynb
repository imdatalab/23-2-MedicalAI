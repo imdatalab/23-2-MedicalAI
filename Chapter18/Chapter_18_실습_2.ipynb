{
  "cells": [
    {
      "cell_type": "code",
      "execution_count": 1,
      "metadata": {
        "id": "ji6El6yB3p22"
      },
      "outputs": [],
      "source": [
        "from IPython.display import Image\n",
        "%matplotlib inline"
      ]
    },
    {
      "cell_type": "markdown",
      "metadata": {
        "id": "IogXfHq73p22"
      },
      "source": [
        "## PyTorch Geometric 라이브러리를 사용한 GNN 구현\n"
      ]
    },
    {
      "cell_type": "code",
      "source": [
        "!pip install torch-geometric"
      ],
      "metadata": {
        "colab": {
          "base_uri": "https://localhost:8080/"
        },
        "id": "jqdjvKtU5es6",
        "outputId": "c2887e94-b5d5-4120-9aa2-77c6ab84c523"
      },
      "execution_count": 2,
      "outputs": [
        {
          "output_type": "stream",
          "name": "stdout",
          "text": [
            "Collecting torch-geometric\n",
            "  Downloading torch_geometric-2.4.0-py3-none-any.whl (1.0 MB)\n",
            "\u001b[?25l     \u001b[90m━━━━━━━━━━━━━━━━━━━━━━━━━━━━━━━━━━━━━━━━\u001b[0m \u001b[32m0.0/1.0 MB\u001b[0m \u001b[31m?\u001b[0m eta \u001b[36m-:--:--\u001b[0m\r\u001b[2K     \u001b[91m━━\u001b[0m\u001b[90m╺\u001b[0m\u001b[90m━━━━━━━━━━━━━━━━━━━━━━━━━━━━━━━━━━━━━\u001b[0m \u001b[32m0.1/1.0 MB\u001b[0m \u001b[31m1.6 MB/s\u001b[0m eta \u001b[36m0:00:01\u001b[0m\r\u001b[2K     \u001b[91m━━━━━━━━━━━━━━━━━━━━━━━━━━━━━━━━━━━━\u001b[0m\u001b[90m╺\u001b[0m\u001b[90m━━━\u001b[0m \u001b[32m0.9/1.0 MB\u001b[0m \u001b[31m13.6 MB/s\u001b[0m eta \u001b[36m0:00:01\u001b[0m\r\u001b[2K     \u001b[90m━━━━━━━━━━━━━━━━━━━━━━━━━━━━━━━━━━━━━━━━\u001b[0m \u001b[32m1.0/1.0 MB\u001b[0m \u001b[31m12.5 MB/s\u001b[0m eta \u001b[36m0:00:00\u001b[0m\n",
            "\u001b[?25hRequirement already satisfied: tqdm in /usr/local/lib/python3.10/dist-packages (from torch-geometric) (4.66.1)\n",
            "Requirement already satisfied: numpy in /usr/local/lib/python3.10/dist-packages (from torch-geometric) (1.23.5)\n",
            "Requirement already satisfied: scipy in /usr/local/lib/python3.10/dist-packages (from torch-geometric) (1.11.4)\n",
            "Requirement already satisfied: jinja2 in /usr/local/lib/python3.10/dist-packages (from torch-geometric) (3.1.2)\n",
            "Requirement already satisfied: requests in /usr/local/lib/python3.10/dist-packages (from torch-geometric) (2.31.0)\n",
            "Requirement already satisfied: pyparsing in /usr/local/lib/python3.10/dist-packages (from torch-geometric) (3.1.1)\n",
            "Requirement already satisfied: scikit-learn in /usr/local/lib/python3.10/dist-packages (from torch-geometric) (1.2.2)\n",
            "Requirement already satisfied: psutil>=5.8.0 in /usr/local/lib/python3.10/dist-packages (from torch-geometric) (5.9.5)\n",
            "Requirement already satisfied: MarkupSafe>=2.0 in /usr/local/lib/python3.10/dist-packages (from jinja2->torch-geometric) (2.1.3)\n",
            "Requirement already satisfied: charset-normalizer<4,>=2 in /usr/local/lib/python3.10/dist-packages (from requests->torch-geometric) (3.3.2)\n",
            "Requirement already satisfied: idna<4,>=2.5 in /usr/local/lib/python3.10/dist-packages (from requests->torch-geometric) (3.6)\n",
            "Requirement already satisfied: urllib3<3,>=1.21.1 in /usr/local/lib/python3.10/dist-packages (from requests->torch-geometric) (2.0.7)\n",
            "Requirement already satisfied: certifi>=2017.4.17 in /usr/local/lib/python3.10/dist-packages (from requests->torch-geometric) (2023.11.17)\n",
            "Requirement already satisfied: joblib>=1.1.1 in /usr/local/lib/python3.10/dist-packages (from scikit-learn->torch-geometric) (1.3.2)\n",
            "Requirement already satisfied: threadpoolctl>=2.0.0 in /usr/local/lib/python3.10/dist-packages (from scikit-learn->torch-geometric) (3.2.0)\n",
            "Installing collected packages: torch-geometric\n",
            "Successfully installed torch-geometric-2.4.0\n"
          ]
        }
      ]
    },
    {
      "cell_type": "code",
      "execution_count": 3,
      "metadata": {
        "scrolled": true,
        "id": "Bk6-teeO3p22"
      },
      "outputs": [],
      "source": [
        "import torch\n",
        "import torch.nn.functional as F\n",
        "import torch.nn as nn\n",
        "\n",
        "\n",
        "from torch_geometric.datasets import QM9\n",
        "from torch_geometric.loader import DataLoader\n",
        "from torch_geometric.nn import NNConv, global_add_pool\n",
        "\n",
        "import numpy as np"
      ]
    },
    {
      "cell_type": "code",
      "execution_count": 4,
      "metadata": {
        "colab": {
          "base_uri": "https://localhost:8080/"
        },
        "id": "eG-XU7yb3p22",
        "outputId": "5d602449-402f-4812-9d50-d5f4a8260c92"
      },
      "outputs": [
        {
          "output_type": "stream",
          "name": "stderr",
          "text": [
            "Downloading https://data.pyg.org/datasets/qm9_v3.zip\n",
            "Extracting ./raw/qm9_v3.zip\n",
            "Processing...\n",
            "Using a pre-processed version of the dataset. Please install 'rdkit' to alternatively process the raw data.\n",
            "Done!\n"
          ]
        },
        {
          "output_type": "execute_result",
          "data": {
            "text/plain": [
              "130831"
            ]
          },
          "metadata": {},
          "execution_count": 4
        }
      ],
      "source": [
        "dset = QM9('.')\n",
        "len(dset)"
      ]
    },
    {
      "cell_type": "code",
      "execution_count": 5,
      "metadata": {
        "colab": {
          "base_uri": "https://localhost:8080/"
        },
        "id": "Ob0wvJJN3p23",
        "outputId": "58b050aa-9039-428d-dad5-b692a607a0ff"
      },
      "outputs": [
        {
          "output_type": "execute_result",
          "data": {
            "text/plain": [
              "Data(x=[5, 11], edge_index=[2, 8], edge_attr=[8, 4], y=[1, 19], pos=[5, 3], idx=[1], name='gdb_1', z=[5])"
            ]
          },
          "metadata": {},
          "execution_count": 5
        }
      ],
      "source": [
        "# 데이터셋의 첫 번째 데이터를 불러옵니다.\n",
        "data = dset[0]\n",
        "data"
      ]
    },
    {
      "cell_type": "code",
      "execution_count": 6,
      "metadata": {
        "colab": {
          "base_uri": "https://localhost:8080/"
        },
        "id": "-cejP55S3p23",
        "outputId": "96fa1e8a-c8c5-40ae-e9e8-fc5ec5ed278d"
      },
      "outputs": [
        {
          "output_type": "execute_result",
          "data": {
            "text/plain": [
              "tensor([6, 1, 1, 1, 1])"
            ]
          },
          "metadata": {},
          "execution_count": 6
        }
      ],
      "source": [
        "# data.z는 데이터셋의 첫 번째 데이터에 있는 원자의 원자 번호를 나타냅니다.\n",
        "data.z"
      ]
    },
    {
      "cell_type": "code",
      "execution_count": 7,
      "metadata": {
        "colab": {
          "base_uri": "https://localhost:8080/"
        },
        "id": "94v7yJWV3p23",
        "outputId": "1a7e35af-7564-4d92-d927-4803b5affc1f"
      },
      "outputs": [
        {
          "output_type": "execute_result",
          "data": {
            "text/plain": [
              "Data(x=[5, 11], edge_index=[2, 8], edge_attr=[8, 4], y=[1, 19], pos=[5, 3], idx=[1], name='gdb_1', z=[5], new_attribute=[3])"
            ]
          },
          "metadata": {},
          "execution_count": 7
        }
      ],
      "source": [
        "# data 객체에 새로운 속성을 추가합니다. 여기서는 임의로 [1, 2, 3] 텐서를 추가합니다.\n",
        "data.new_attribute = torch.tensor([1, 2, 3])\n",
        "data"
      ]
    },
    {
      "cell_type": "markdown",
      "source": [
        "x=[5, 11]: 각 노드의 특성(feature)을 나타내는 행렬입니다. 여기서 5는 노드의 개수, 11은 각 노드에 대한 특성의 수를 의미합니다.\n",
        "\n",
        "edge_index=[2, 8]: 그래프의 에지(엣지)를 나타내는 인덱스 행렬입니다. 2는 두 노드 사이의 연결을 나타내며, 8은 총 에지의 수를 의미합니다.\n",
        "\n",
        "edge_attr=[8, 4]: 에지의 특성을 나타내는 행렬입니다. 8은 에지의 개수, 4는 각 에지에 대한 특성의 수를 의미합니다.\n",
        "\n",
        "y=[1, 19]: 타겟 변수 또는 레이블을 나타내는 행렬입니다. 1은 레이블의 차원, 19는 다양한 물리적, 화학적 성질을 나타내는 레이블의 수입니다.\n",
        "\n",
        "pos=[5, 3]: 각 노드의 위치 정보를 나타내는 행렬입니다. 5는 노드의 개수, 3은 공간 좌표(3차원)를 의미합니다.\n",
        "\n",
        "idx=[1]: 데이터의 고유 식별자 또는 인덱스를 나타냅니다.\n",
        "\n",
        "name='gdb_1': 데이터의 이름 또는 식별자입니다.\n",
        "\n",
        "z=[5]: 원자 번호를 나타내는 배열입니다. 5는 데이터에 포함된 원자의 개수를 의미합니다.\n",
        "\n",
        "new_attribute=[3]: 사용자가 임의로 추가한 새로운 속성입니다. [1, 2, 3] 텐서가 이 속성으로 추가되었습니다."
      ],
      "metadata": {
        "id": "vBw-rC7-CtK7"
      }
    },
    {
      "cell_type": "code",
      "execution_count": 8,
      "metadata": {
        "colab": {
          "base_uri": "https://localhost:8080/"
        },
        "id": "o4zMbzEA3p23",
        "outputId": "19fac730-c89e-47e9-e8d2-3366b9202054"
      },
      "outputs": [
        {
          "output_type": "execute_result",
          "data": {
            "text/plain": [
              "True"
            ]
          },
          "metadata": {},
          "execution_count": 8
        }
      ],
      "source": [
        "device = torch.device(\"cuda:0\" if torch.cuda.is_available() else \"cpu\")\n",
        "data.to(device)\n",
        "data.new_attribute.is_cuda"
      ]
    },
    {
      "cell_type": "code",
      "execution_count": 9,
      "metadata": {
        "id": "OErdmB2Q3p23"
      },
      "outputs": [],
      "source": [
        "class ExampleNet(torch.nn.Module):\n",
        "    def __init__(self,num_node_features,num_edge_features):\n",
        "        super().__init__()\n",
        "        conv1_net = nn.Sequential(nn.Linear(num_edge_features, 32),\n",
        "                                  nn.ReLU(),\n",
        "                                  nn.Linear(32, num_node_features*32))\n",
        "        conv2_net = nn.Sequential(nn.Linear(num_edge_features,32),\n",
        "                                  nn.ReLU(),\n",
        "                                  nn.Linear(32, 32*16))\n",
        "        self.conv1 = NNConv(num_node_features, 32, conv1_net)\n",
        "        self.conv2 = NNConv(32, 16, conv2_net)\n",
        "        self.fc_1 = nn.Linear(16, 32)\n",
        "        self.out = nn.Linear(32, 1)\n",
        "\n",
        "    def forward(self, data):\n",
        "        batch, x, edge_index, edge_attr=data.batch, data.x, data.edge_index, data.edge_attr\n",
        "        x = F.relu(self.conv1(x, edge_index, edge_attr))\n",
        "        x = F.relu(self.conv2(x, edge_index, edge_attr))\n",
        "        x = global_add_pool(x,batch)\n",
        "        x = F.relu(self.fc_1(x))\n",
        "        output = self.out(x)\n",
        "        return output"
      ]
    },
    {
      "cell_type": "code",
      "execution_count": 10,
      "metadata": {
        "id": "nOwsFtzv3p23"
      },
      "outputs": [],
      "source": [
        "from torch.utils.data import random_split\n",
        "\n",
        "\n",
        "train_set, valid_set, test_set = random_split(dset,[110000, 10831, 10000])\n",
        "\n",
        "trainloader = DataLoader(train_set, batch_size=32, shuffle=True)\n",
        "validloader = DataLoader(valid_set, batch_size=32, shuffle=True)\n",
        "testloader = DataLoader(test_set, batch_size=32, shuffle=True)"
      ]
    },
    {
      "cell_type": "code",
      "execution_count": 11,
      "metadata": {
        "id": "De0Itmw63p23"
      },
      "outputs": [],
      "source": [
        "qm9_node_feats, qm9_edge_feats = 11, 4\n",
        "epochs = 4\n",
        "net = ExampleNet(qm9_node_feats, qm9_edge_feats)\n",
        "\n",
        "optimizer = torch.optim.Adam(net.parameters(), lr=0.01)\n",
        "epochs = 4\n",
        "target_idx = 1 # index position of the polarizability label"
      ]
    },
    {
      "cell_type": "code",
      "execution_count": 12,
      "metadata": {
        "colab": {
          "base_uri": "https://localhost:8080/"
        },
        "id": "63TB0z0S3p24",
        "outputId": "92a62663-660d-4f27-8cc0-11446673fb59"
      },
      "outputs": [
        {
          "output_type": "execute_result",
          "data": {
            "text/plain": [
              "ExampleNet(\n",
              "  (conv1): NNConv(11, 32, aggr=add, nn=Sequential(\n",
              "    (0): Linear(in_features=4, out_features=32, bias=True)\n",
              "    (1): ReLU()\n",
              "    (2): Linear(in_features=32, out_features=352, bias=True)\n",
              "  ))\n",
              "  (conv2): NNConv(32, 16, aggr=add, nn=Sequential(\n",
              "    (0): Linear(in_features=4, out_features=32, bias=True)\n",
              "    (1): ReLU()\n",
              "    (2): Linear(in_features=32, out_features=512, bias=True)\n",
              "  ))\n",
              "  (fc_1): Linear(in_features=16, out_features=32, bias=True)\n",
              "  (out): Linear(in_features=32, out_features=1, bias=True)\n",
              ")"
            ]
          },
          "metadata": {},
          "execution_count": 12
        }
      ],
      "source": [
        "device = torch.device(\"cuda:0\" if torch.cuda.is_available() else \"cpu\")\n",
        "net.to(device)"
      ]
    },
    {
      "cell_type": "code",
      "execution_count": 13,
      "metadata": {
        "scrolled": true,
        "colab": {
          "base_uri": "https://localhost:8080/"
        },
        "id": "nQytX5873p24",
        "outputId": "10a18972-c32b-4a14-a8d9-f612f8be4839"
      },
      "outputs": [
        {
          "output_type": "stream",
          "name": "stdout",
          "text": [
            "Epochs: 0 | epoch avg. loss: 0.53 | validation avg. loss: 0.19\n",
            "Epochs: 1 | epoch avg. loss: 0.13 | validation avg. loss: 0.07\n",
            "Epochs: 2 | epoch avg. loss: 0.10 | validation avg. loss: 0.06\n",
            "Epochs: 3 | epoch avg. loss: 0.10 | validation avg. loss: 0.12\n"
          ]
        }
      ],
      "source": [
        "for total_epochs in range(epochs):\n",
        "\n",
        "    epoch_loss = 0\n",
        "    total_graphs = 0\n",
        "    net.train()\n",
        "    for batch in trainloader:\n",
        "        batch.to(device)\n",
        "        optimizer.zero_grad()\n",
        "        output = net(batch)\n",
        "        loss = F.mse_loss(output, batch.y[:, target_idx].unsqueeze(1))\n",
        "        loss.backward()\n",
        "        epoch_loss += loss.item()\n",
        "        total_graphs += batch.num_graphs\n",
        "        optimizer.step()\n",
        "\n",
        "    train_avg_loss = epoch_loss / total_graphs\n",
        "    val_loss = 0\n",
        "    total_graphs = 0\n",
        "    net.eval()\n",
        "    for batch in validloader:\n",
        "        batch.to(device)\n",
        "        output = net(batch)\n",
        "        loss = F.mse_loss(output,batch.y[:, target_idx].unsqueeze(1))\n",
        "        val_loss += loss.item()\n",
        "        total_graphs += batch.num_graphs\n",
        "    val_avg_loss = val_loss / total_graphs\n",
        "\n",
        "\n",
        "    print(f\"Epochs: {total_epochs} | epoch avg. loss: {train_avg_loss:.2f} | validation avg. loss: {val_avg_loss:.2f}\")"
      ]
    },
    {
      "cell_type": "code",
      "execution_count": 14,
      "metadata": {
        "scrolled": true,
        "id": "uZ7Mo04g3p24"
      },
      "outputs": [],
      "source": [
        "net.eval()\n",
        "predictions = []\n",
        "real = []\n",
        "\n",
        "for batch in testloader:\n",
        "\n",
        "    output = net(batch.to(device))\n",
        "    predictions.append(output.detach().cpu().numpy())\n",
        "    real.append(batch.y[:, target_idx].detach().cpu().numpy())\n",
        "\n",
        "predictions = np.concatenate(predictions)\n",
        "real = np.concatenate(real)"
      ]
    },
    {
      "cell_type": "code",
      "execution_count": 15,
      "metadata": {
        "colab": {
          "base_uri": "https://localhost:8080/",
          "height": 468
        },
        "id": "UKL03igE3p24",
        "outputId": "45d52277-b5fd-4f28-bf9c-e15e14ace7df"
      },
      "outputs": [
        {
          "output_type": "execute_result",
          "data": {
            "text/plain": [
              "Text(0.5, 0, 'Isotropic polarizability')"
            ]
          },
          "metadata": {},
          "execution_count": 15
        },
        {
          "output_type": "display_data",
          "data": {
            "text/plain": [
              "<Figure size 640x480 with 1 Axes>"
            ],
            "image/png": "[encoded data removed]"
          },
          "metadata": {}
        }
      ],
      "source": [
        "import matplotlib.pyplot as plt\n",
        "\n",
        "\n",
        "plt.scatter(real[:500],predictions[:500])\n",
        "plt.ylabel('Predicted isotropic polarizability')\n",
        "plt.xlabel('Isotropic polarizability')\n",
        "#plt.savefig('figures/18_12.png', dpi=300)"
      ]
    }
  ],
  "metadata": {
    "kernelspec": {
      "display_name": "Python 3",
      "name": "python3"
    },
    "language_info": {
      "codemirror_mode": {
        "name": "ipython",
        "version": 3
      },
      "file_extension": ".py",
      "mimetype": "text/x-python",
      "name": "python",
      "nbconvert_exporter": "python",
      "pygments_lexer": "ipython3",
      "version": "3.9.6"
    },
    "colab": {
      "provenance": [],
      "gpuType": "T4"
    },
    "accelerator": "GPU"
  },
  "nbformat": 4,
  "nbformat_minor": 0
}