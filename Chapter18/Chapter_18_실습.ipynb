{
  "nbformat": 4,
  "nbformat_minor": 0,
  "metadata": {
    "colab": {
      "provenance": [],
      "gpuType": "T4",
      "collapsed_sections": [
        "NiUiviF6nzvj"
      ],
      "toc_visible": true
    },
    "kernelspec": {
      "name": "python3",
      "display_name": "Python 3"
    },
    "language_info": {
      "name": "python"
    },
    "accelerator": "GPU"
  },
  "cells": [
    {
      "cell_type": "markdown",
      "source": [
        "# 기본 그래프 컨볼루션 구현"
      ],
      "metadata": {
        "id": "R4zVESGwzRBb"
      }
    },
    {
      "cell_type": "code",
      "execution_count": 1,
      "metadata": {
        "id": "TXZZ__Yph-ys"
      },
      "outputs": [],
      "source": [
        "import networkx as nx\n",
        "import numpy as np"
      ]
    },
    {
      "cell_type": "code",
      "source": [
        "# 그래프 객체 생성\n",
        "G = nx.Graph()\n",
        "\n",
        "# 그래프에 사용할 색상의 HEX 코드\n",
        "blue, orange, green = \"#1f77b4\", \"#ff7f0e\", \"#2ca02c\"\n",
        "\n",
        "# 노드 추가 (노드 번호와 색상 속성)\n",
        "G.add_nodes_from([\n",
        "    (1, {\"color\": blue}),\n",
        "    (2, {\"color\": orange}),\n",
        "    (3, {\"color\": blue}),\n",
        "    (4, {\"color\": green})\n",
        "])\n",
        "\n",
        "# 에지 추가\n",
        "G.add_edges_from([\n",
        "    (1, 2),\n",
        "    (2, 3),\n",
        "    (1, 3),\n",
        "    (3, 4)\n",
        "])\n",
        "\n",
        "# 인접 행렬 생성 및 출력\n",
        "A = np.asarray(nx.adjacency_matrix(G).todense())\n",
        "print(A)\n"
      ],
      "metadata": {
        "id": "TczmNi0BiF3U",
        "colab": {
          "base_uri": "https://localhost:8080/"
        },
        "outputId": "f48d1b6d-30c3-4701-baf2-64ccc21b4bbc"
      },
      "execution_count": 2,
      "outputs": [
        {
          "output_type": "stream",
          "name": "stdout",
          "text": [
            "[[0 1 1 0]\n",
            " [1 0 1 0]\n",
            " [1 1 0 1]\n",
            " [0 0 1 0]]\n"
          ]
        }
      ]
    },
    {
      "cell_type": "code",
      "source": [
        "# 노드의 색상 속성 원-핫 인코딩 변환\n",
        "\n",
        "def build_graph_color_label_representation(G, mapping_dict):\n",
        "    # 노드의 색상 속성을 기반으로 인덱스 배열 생성\n",
        "    one_hot_idxs = np.array([mapping_dict[v] for v in nx.get_node_attributes(G, 'color').values()])\n",
        "\n",
        "    # 원-핫 인코딩 배열 초기화\n",
        "    one_hot_encoding = np.zeros((one_hot_idxs.size, len(mapping_dict)))\n",
        "\n",
        "    # 원-핫 인코딩 적용\n",
        "    one_hot_encoding[np.arange(one_hot_idxs.size), one_hot_idxs] = 1\n",
        "    return one_hot_encoding\n",
        "\n",
        "# 그래프 객체 생성 및 노드와 에지 추가\n",
        "G = nx.Graph()\n",
        "blue, orange, green = \"#1f77b4\", \"#ff7f0e\", \"#2ca02c\"\n",
        "G.add_nodes_from([(1, {\"color\": blue}), (2, {\"color\": orange}), (3, {\"color\": blue}), (4, {\"color\": green})])\n",
        "G.add_edges_from([(1, 2), (2, 3), (1, 3), (3, 4)])\n",
        "\n",
        "# 색상을 기반으로 한 원-핫 인코딩 생성\n",
        "X = build_graph_color_label_representation(G, {green: 0, blue: 1, orange: 2})\n",
        "\n",
        "# 결과 출력\n",
        "print(X)\n"
      ],
      "metadata": {
        "colab": {
          "base_uri": "https://localhost:8080/"
        },
        "id": "_mFAt3TGYOwS",
        "outputId": "1ed5f327-8a48-42f5-b63d-113bd048793b"
      },
      "execution_count": 21,
      "outputs": [
        {
          "output_type": "stream",
          "name": "stdout",
          "text": [
            "[[0. 1. 0.]\n",
            " [0. 0. 1.]\n",
            " [0. 1. 0.]\n",
            " [1. 0. 0.]]\n"
          ]
        }
      ]
    },
    {
      "cell_type": "code",
      "source": [
        "color_map = nx.get_node_attributes(G, 'color').values()\n",
        "# 그래프 데이터에서 각 노드의 특성을 업데이트하는 방법을 구현\n",
        "nx.draw(G, with_labels=True, node_color=color_map)"
      ],
      "metadata": {
        "colab": {
          "base_uri": "https://localhost:8080/",
          "height": 516
        },
        "id": "dYMYz5cUYTVW",
        "outputId": "d5ee1b0e-061f-48b2-8b89-74201aa64d44"
      },
      "execution_count": 4,
      "outputs": [
        {
          "output_type": "display_data",
          "data": {
            "text/plain": [
              "<Figure size 640x480 with 1 Axes>"
            ],
            "image/png": "[encoded data removed]"
          },
          "metadata": {}
        }
      ]
    },
    {
      "cell_type": "markdown",
      "source": [
        "### 그래프 컨볼루션"
      ],
      "metadata": {
        "id": "DcOqwL6zs62E"
      }
    },
    {
      "cell_type": "code",
      "source": [
        "# 그래프 데이터에서 각 노드의 특성을 업데이트하는 방법을 구현\n",
        "import numpy as np\n",
        "\n",
        "# X는 노드의 특성을 나타내는 행렬입니다. 여기서 X.shape[1]은 노드의 특성 수(열, column)를 의미합니다.\n",
        "f_in, f_out = X.shape[1], 6  # 입력 특성 수와 출력 특성 수를 정의합니다.\n",
        "\n",
        "# W_1과 W_2는 학습 가능한 가중치 행렬입니다.\n",
        "W_1 = np.random.rand(f_in, f_out)  # 노드 자체의 특성 변환을 위한 가중치\n",
        "W_2 = np.random.rand(f_in, f_out)  # 이웃 노드들의 특성 변환을 위한 가중치\n",
        "\n",
        "# h는 각 노드의 최종 업데이트된 임베딩을 계산합니다.\n",
        "# np.dot(X, W_1)은 각 노드의 현재 특성에 가중치 W_1을 적용합니다.\n",
        "# np.dot(np.dot(A, X), W_2)는 인접 행렬 A를 사용하여 이웃 노드들의 정보를 집계한 후 가중치 W_2를 적용합니다.\n",
        "h = np.dot(X, W_1) + np.dot(np.dot(A, X), W_2)  # 노드의 최종 임베딩 계산\n"
      ],
      "metadata": {
        "id": "Q0pTOStKZORH"
      },
      "execution_count": 5,
      "outputs": []
    },
    {
      "cell_type": "markdown",
      "source": [
        "# 처음부터 PyTorch를 사용한 GNN 구현\n",
        "\n"
      ],
      "metadata": {
        "id": "E3wrec18zZgs"
      }
    },
    {
      "cell_type": "markdown",
      "source": [
        "## NodeNetwork 모델 정의\n"
      ],
      "metadata": {
        "id": "7FsSSG7OzfnT"
      }
    },
    {
      "cell_type": "markdown",
      "source": [
        "### Torch 버전 확인 및 업데이트"
      ],
      "metadata": {
        "id": "NiUiviF6nzvj"
      }
    },
    {
      "cell_type": "code",
      "source": [
        "import torch\n",
        "print(torch.__version__)"
      ],
      "metadata": {
        "colab": {
          "base_uri": "https://localhost:8080/"
        },
        "id": "wO9zdVvYsY4d",
        "outputId": "718e3c2f-8e88-42b0-f1b8-e63d35d19f5b"
      },
      "execution_count": 6,
      "outputs": [
        {
          "output_type": "stream",
          "name": "stdout",
          "text": [
            "2.1.0+cu118\n"
          ]
        }
      ]
    },
    {
      "cell_type": "code",
      "source": [
        "# PyTorch 설치 (Colab에 기본적으로 설치되어 있음)\n",
        "# !pip install torch torchvision\n",
        "\n",
        "# PyTorch Geometric과 필요한 의존성 패키지들 설치\n",
        "!pip install torch-geometric\n",
        "!pip install torch-sparse torch-scatter torch-cluster torch-spline-conv -f https://data.pyg.org/whl/torch-2.1.0+cu118.html\n",
        "\n",
        "# 위 명령에서 torch-1.12.0+cu113 부분은 현재 설치된 PyTorch의 버전과 CUDA 버전에 맞게 조정해야 할 수 있습니다.\n",
        "# PyTorch와 CUDA의 버전을 확인하려면 다음 명령을 사용합니다:\n",
        "!python -c \"import torch; print(torch.__version__); print(torch.version.cuda)\"\n"
      ],
      "metadata": {
        "colab": {
          "base_uri": "https://localhost:8080/"
        },
        "id": "oDLNdqTeOIMD",
        "outputId": "f29e7219-34a7-4756-92ab-db190b20d30e"
      },
      "execution_count": 7,
      "outputs": [
        {
          "output_type": "stream",
          "name": "stdout",
          "text": [
            "Requirement already satisfied: torch-geometric in /usr/local/lib/python3.10/dist-packages (2.4.0)\n",
            "Requirement already satisfied: tqdm in /usr/local/lib/python3.10/dist-packages (from torch-geometric) (4.66.1)\n",
            "Requirement already satisfied: numpy in /usr/local/lib/python3.10/dist-packages (from torch-geometric) (1.23.5)\n",
            "Requirement already satisfied: scipy in /usr/local/lib/python3.10/dist-packages (from torch-geometric) (1.11.4)\n",
            "Requirement already satisfied: jinja2 in /usr/local/lib/python3.10/dist-packages (from torch-geometric) (3.1.2)\n",
            "Requirement already satisfied: requests in /usr/local/lib/python3.10/dist-packages (from torch-geometric) (2.31.0)\n",
            "Requirement already satisfied: pyparsing in /usr/local/lib/python3.10/dist-packages (from torch-geometric) (3.1.1)\n",
            "Requirement already satisfied: scikit-learn in /usr/local/lib/python3.10/dist-packages (from torch-geometric) (1.2.2)\n",
            "Requirement already satisfied: psutil>=5.8.0 in /usr/local/lib/python3.10/dist-packages (from torch-geometric) (5.9.5)\n",
            "Requirement already satisfied: MarkupSafe>=2.0 in /usr/local/lib/python3.10/dist-packages (from jinja2->torch-geometric) (2.1.3)\n",
            "Requirement already satisfied: charset-normalizer<4,>=2 in /usr/local/lib/python3.10/dist-packages (from requests->torch-geometric) (3.3.2)\n",
            "Requirement already satisfied: idna<4,>=2.5 in /usr/local/lib/python3.10/dist-packages (from requests->torch-geometric) (3.6)\n",
            "Requirement already satisfied: urllib3<3,>=1.21.1 in /usr/local/lib/python3.10/dist-packages (from requests->torch-geometric) (2.0.7)\n",
            "Requirement already satisfied: certifi>=2017.4.17 in /usr/local/lib/python3.10/dist-packages (from requests->torch-geometric) (2023.11.17)\n",
            "Requirement already satisfied: joblib>=1.1.1 in /usr/local/lib/python3.10/dist-packages (from scikit-learn->torch-geometric) (1.3.2)\n",
            "Requirement already satisfied: threadpoolctl>=2.0.0 in /usr/local/lib/python3.10/dist-packages (from scikit-learn->torch-geometric) (3.2.0)\n",
            "Looking in links: https://data.pyg.org/whl/torch-2.1.0+cu118.html\n",
            "Requirement already satisfied: torch-sparse in /usr/local/lib/python3.10/dist-packages (0.6.18+pt21cu118)\n",
            "Requirement already satisfied: torch-scatter in /usr/local/lib/python3.10/dist-packages (2.1.2+pt21cu118)\n",
            "Requirement already satisfied: torch-cluster in /usr/local/lib/python3.10/dist-packages (1.6.3+pt21cu118)\n",
            "Requirement already satisfied: torch-spline-conv in /usr/local/lib/python3.10/dist-packages (1.2.2+pt21cu118)\n",
            "Requirement already satisfied: scipy in /usr/local/lib/python3.10/dist-packages (from torch-sparse) (1.11.4)\n",
            "Requirement already satisfied: numpy<1.28.0,>=1.21.6 in /usr/local/lib/python3.10/dist-packages (from scipy->torch-sparse) (1.23.5)\n",
            "2.1.0+cu118\n",
            "11.8\n"
          ]
        }
      ]
    },
    {
      "cell_type": "code",
      "source": [
        "!pip install torch-geometric -U"
      ],
      "metadata": {
        "colab": {
          "base_uri": "https://localhost:8080/"
        },
        "id": "JMt2sPN9s-RZ",
        "outputId": "d1b83c42-0253-4533-e3e4-4c452131f12b"
      },
      "execution_count": 8,
      "outputs": [
        {
          "output_type": "stream",
          "name": "stdout",
          "text": [
            "Requirement already satisfied: torch-geometric in /usr/local/lib/python3.10/dist-packages (2.4.0)\n",
            "Requirement already satisfied: tqdm in /usr/local/lib/python3.10/dist-packages (from torch-geometric) (4.66.1)\n",
            "Requirement already satisfied: numpy in /usr/local/lib/python3.10/dist-packages (from torch-geometric) (1.23.5)\n",
            "Requirement already satisfied: scipy in /usr/local/lib/python3.10/dist-packages (from torch-geometric) (1.11.4)\n",
            "Requirement already satisfied: jinja2 in /usr/local/lib/python3.10/dist-packages (from torch-geometric) (3.1.2)\n",
            "Requirement already satisfied: requests in /usr/local/lib/python3.10/dist-packages (from torch-geometric) (2.31.0)\n",
            "Requirement already satisfied: pyparsing in /usr/local/lib/python3.10/dist-packages (from torch-geometric) (3.1.1)\n",
            "Requirement already satisfied: scikit-learn in /usr/local/lib/python3.10/dist-packages (from torch-geometric) (1.2.2)\n",
            "Requirement already satisfied: psutil>=5.8.0 in /usr/local/lib/python3.10/dist-packages (from torch-geometric) (5.9.5)\n",
            "Requirement already satisfied: MarkupSafe>=2.0 in /usr/local/lib/python3.10/dist-packages (from jinja2->torch-geometric) (2.1.3)\n",
            "Requirement already satisfied: charset-normalizer<4,>=2 in /usr/local/lib/python3.10/dist-packages (from requests->torch-geometric) (3.3.2)\n",
            "Requirement already satisfied: idna<4,>=2.5 in /usr/local/lib/python3.10/dist-packages (from requests->torch-geometric) (3.6)\n",
            "Requirement already satisfied: urllib3<3,>=1.21.1 in /usr/local/lib/python3.10/dist-packages (from requests->torch-geometric) (2.0.7)\n",
            "Requirement already satisfied: certifi>=2017.4.17 in /usr/local/lib/python3.10/dist-packages (from requests->torch-geometric) (2023.11.17)\n",
            "Requirement already satisfied: joblib>=1.1.1 in /usr/local/lib/python3.10/dist-packages (from scikit-learn->torch-geometric) (1.3.2)\n",
            "Requirement already satisfied: threadpoolctl>=2.0.0 in /usr/local/lib/python3.10/dist-packages (from scikit-learn->torch-geometric) (3.2.0)\n"
          ]
        }
      ]
    },
    {
      "cell_type": "code",
      "source": [
        "import networkx as nx\n",
        "import torch\n",
        "from torch.nn.parameter import Parameter\n",
        "import numpy as np\n",
        "import torch.nn.functional as F"
      ],
      "metadata": {
        "id": "CeVynIKaMYzA"
      },
      "execution_count": 9,
      "outputs": []
    },
    {
      "cell_type": "code",
      "source": [
        "class NodeNetwork(torch.nn.Module):\n",
        "    # 생성자 함수\n",
        "    def __init__(self, input_features):\n",
        "        super().__init__()\n",
        "\n",
        "        # 첫 번째 그래프 컨볼루션 레이어를 초기화합니다. 입력 특성 수와 출력 특성 수는 각각 input_features와 32입니다.\n",
        "        self.conv_1 = BasicGraphConvolutionLayer(input_features, 32)\n",
        "\n",
        "        # 두 번째 그래프 컨볼루션 레이어를 초기화합니다. 첫 번째 레이어의 출력 특성 수(32)가 입력으로 사용됩니다.\n",
        "        self.conv_2 = BasicGraphConvolutionLayer(32, 32)\n",
        "\n",
        "        # 첫 번째 완전 연결(선형) 레이어를 초기화합니다. 입력 특성 수는 32, 출력 특성 수는 16입니다.\n",
        "        self.fc_1 = torch.nn.Linear(32, 16)\n",
        "\n",
        "        # 출력 레이어(또 다른 완전 연결 레이어)를 초기화합니다. 입력 특성 수는 16, 출력 특성 수(클래스 수)는 2입니다.\n",
        "        self.out_layer = torch.nn.Linear(16, 2)\n",
        "\n",
        "    # 전방향 패스를 정의합니다.\n",
        "    def forward(self, X, A, batch_mat):\n",
        "        # 첫 번째 컨볼루션 레이어를 통과하고 ReLU 활성화 함수를 적용합니다.\n",
        "        x = F.relu(self.conv_1(X, A))\n",
        "\n",
        "        # 두 번째 컨볼루션 레이어를 통과하고 ReLU 활성화 함수를 적용합니다.\n",
        "        x = F.relu(self.conv_2(x, A))\n",
        "\n",
        "        # 그래프의 모든 노드에서 글로벌 풀링을 적용하여 하나의 벡터로 요약합니다.\n",
        "        output = global_sum_pool(x, batch_mat)\n",
        "\n",
        "        # 첫 번째 완전 연결 레이어를 통과합니다.\n",
        "        output = self.fc_1(output)\n",
        "\n",
        "        # 출력 레이어를 통과합니다.\n",
        "        output = self.out_layer(output)\n",
        "\n",
        "        # 소프트맥스 함수를 적용하여 각 클래스에 대한 확률을 계산합니다.\n",
        "        return F.softmax(output, dim=1)\n"
      ],
      "metadata": {
        "id": "ucxR_xP2LK_n"
      },
      "execution_count": 10,
      "outputs": []
    },
    {
      "cell_type": "markdown",
      "source": [
        "## NodeNetwork의 그래프 컨볼루션 계층 코딩"
      ],
      "metadata": {
        "id": "ZoqrQ_XX0omR"
      }
    },
    {
      "cell_type": "code",
      "source": [
        "class BasicGraphConvolutionLayer(torch.nn.Module):\n",
        "    # 초기화 함수\n",
        "    def __init__(self, in_channels, out_channels):\n",
        "        super().__init__()  # 상위 클래스(torch.nn.Module)의 초기화 함수 호출\n",
        "        self.in_channels = in_channels  # 입력 채널의 수\n",
        "        self.out_channels = out_channels  # 출력 채널의 수\n",
        "\n",
        "        # 학습 가능한 가중치 W2와 W1 초기화\n",
        "        # W2는 각 이웃 노드의 특징을 변환하는 데 사용됨\n",
        "        self.W2 = Parameter(torch.rand((in_channels, out_channels), dtype=torch.float32))\n",
        "\n",
        "        # W1은 자기 자신 노드의 특징을 변환하는 데 사용됨\n",
        "        self.W1 = Parameter(torch.rand((in_channels, out_channels), dtype=torch.float32))\n",
        "\n",
        "        # 학습 가능한 편향(bias) 초기화\n",
        "        self.bias = Parameter(torch.zeros(out_channels, dtype=torch.float32))\n",
        "\n",
        "    # 순방향 전파 함수\n",
        "    def forward(self, X, A):\n",
        "\n",
        "        # potential_msgs는 X와 W2의 행렬 곱셈을 통해 이웃 노드의 특징을 변환\n",
        "        potential_msgs = torch.mm(X, self.W2)\n",
        "\n",
        "        # propagated_msgs는 변환된 이웃 노드의 특징들을 인접 행렬 A를 통해 누적\n",
        "        propagated_msgs = torch.mm(A, potential_msgs)\n",
        "\n",
        "        # root_update는 X와 W1의 행렬 곱셈을 통해 자기 자신 노드의 특징을 변환\n",
        "        root_update = torch.mm(X, self.W1)\n",
        "\n",
        "        # output은 이웃 노드와 자기 자신의 특징 변환 결과를 합친 후, 편향을 추가\n",
        "        output = propagated_msgs + root_update + self.bias\n",
        "        return output\n"
      ],
      "metadata": {
        "id": "qsUa9gW3dwr3"
      },
      "execution_count": 11,
      "outputs": []
    },
    {
      "cell_type": "markdown",
      "source": [
        "## 다양한 크기의 그래프를 다루기 위한 글로벌 풀링 계층 추가"
      ],
      "metadata": {
        "id": "1BkJzAzY1LtG"
      }
    },
    {
      "cell_type": "markdown",
      "source": [
        "### 그래프의 모든 노드 임베딩을 하나의 벡터로 합산하는 글로벌 풀링"
      ],
      "metadata": {
        "id": "SQBxMaeg536j"
      }
    },
    {
      "cell_type": "code",
      "source": [
        "# 글로벌 풀링\n",
        "\n",
        "def global_sum_pool(X, batch_mat):\n",
        "    # batch_mat이 None이거나 1차원 텐서인 경우,\n",
        "    # 즉, 배치 처리가 필요 없는 경우에 해당합니다.\n",
        "    if batch_mat is None or batch_mat.dim() == 1:\n",
        "\n",
        "        # X의 0번째 차원(행 방향)에 대해 모든 요소들의 합을 구합니다.\n",
        "        # 이 연산은 모든 노드 임베딩을 하나의 벡터로 합산합니다.\n",
        "        # 그 후, 결과를 2차원 텐서로 변환하기 위해 unsqueeze(0)을 사용합니다.\n",
        "        return torch.sum(X, dim=0).unsqueeze(0)\n",
        "\n",
        "    else:\n",
        "\n",
        "        # 배치 처리가 필요한 경우,\n",
        "        # batch_mat를 사용하여 각 그래프의 노드 임베딩을 개별적으로 합산합니다.\n",
        "        # torch.mm은 행렬 곱셈을 수행하는 PyTorch 함수입니다.\n",
        "        # 여기서 batch_mat는 각 그래프의 노드 임베딩을 선택하는 데 사용됩니다.\n",
        "        return torch.mm(batch_mat, X)\n"
      ],
      "metadata": {
        "id": "oe3uEb4MyTMk"
      },
      "execution_count": 22,
      "outputs": []
    },
    {
      "cell_type": "markdown",
      "source": [
        "### 각 그래프의 노드들이 어디에 위치하는지 나타내며, 글로벌 풀링 과정에 사용"
      ],
      "metadata": {
        "id": "3q69ibpn5-9o"
      }
    },
    {
      "cell_type": "code",
      "source": [
        "# 각 그래프가 배치 내에서 차지하는 위치를 표시하는 배치 텐서 생성\n",
        "\n",
        "def get_batch_tensor(graph_sizes):\n",
        "\n",
        "    # 각 그래프의 시작 인덱스를 계산합니다.\n",
        "    # 이는 각 그래프가 전체 배치 텐서에서 어디서 시작되는지를 나타냅니다.\n",
        "    starts = [sum(graph_sizes[:idx]) for idx in range(len(graph_sizes))]\n",
        "\n",
        "    # 각 그래프의 종료 인덱스를 계산합니다.\n",
        "    # 이는 각 그래프가 전체 배치 텐서에서 어디서 끝나는지를 나타냅니다.\n",
        "    stops = [starts[idx] + graph_sizes[idx] for idx in range(len(graph_sizes))]\n",
        "\n",
        "    # 전체 배치 텐서의 길이를 계산합니다.\n",
        "    tot_len = sum(graph_sizes)\n",
        "\n",
        "    # 배치의 크기, 즉 그래프의 수를 계산합니다.\n",
        "    batch_size = len(graph_sizes)\n",
        "\n",
        "    # 배치 텐서를 초기화합니다. 이 텐서는 각 그래프의 위치를 나타내는 데 사용됩니다.\n",
        "    batch_mat = torch.zeros([batch_size, tot_len]).float()\n",
        "\n",
        "    # 각 그래프에 대해 배치 텐서 내에서 해당 그래프의 위치를 표시합니다.\n",
        "    for idx, (start, stop) in enumerate(zip(starts, stops)):\n",
        "        # 그래프의 시작점부터 끝점까지 1로 설정합니다.\n",
        "        batch_mat[idx, start:stop] = 1\n",
        "\n",
        "    # 완성된 배치 텐서를 반환합니다.\n",
        "    return batch_mat\n"
      ],
      "metadata": {
        "id": "d55L1Bg81Sk3"
      },
      "execution_count": 13,
      "outputs": []
    },
    {
      "cell_type": "markdown",
      "source": [
        "### 모든 그래프의 정보를 결헙한 결과를 반환하여 그래프 신경망의 입력으로 사용할 수 있게 함"
      ],
      "metadata": {
        "id": "s9O-dsfb6FQn"
      }
    },
    {
      "cell_type": "code",
      "source": [
        "# 개별 그래프 데이터들을 한 배치로 모으는 작업 수행\n",
        "# 그래프 데이터셋을 배치 단위로 묶을 때 사용, PyTorch의 'DataLoader'에 의해 각 배치가 처리될 때 호출됨\n",
        "\n",
        "def collate_graphs(batch):\n",
        "\n",
        "    # 각 그래프의 인접 행렬을 가져옵니다.\n",
        "    adj_mats = [graph['A'] for graph in batch]\n",
        "\n",
        "    # 각 인접 행렬의 크기를 가져옵니다.\n",
        "    sizes = [A.size(0) for A in adj_mats]\n",
        "\n",
        "    # 전체 배치에서의 노드 수를 계산합니다.\n",
        "    tot_size = sum(sizes)\n",
        "\n",
        "    # 배치 행렬을 생성합니다.\n",
        "    batch_mat = get_batch_tensor(sizes)\n",
        "\n",
        "    # 각 그래프의 특성 행렬을 연결하여 하나의 큰 행렬을 만듭니다.\n",
        "    feat_mats = torch.cat([graph['X'] for graph in batch], dim=0)\n",
        "\n",
        "    # 각 그래프의 레이블을 연결합니다.\n",
        "    labels = torch.cat([graph['y'] for graph in batch], dim=0)\n",
        "\n",
        "    # 배치에 있는 모든 그래프의 인접 행렬을 하나의 큰 행렬로 결합합니다.\n",
        "    batch_adj = torch.zeros([tot_size, tot_size], dtype=torch.float32)\n",
        "    accum = 0\n",
        "    for adj in adj_mats:\n",
        "        # 각 그래프의 크기를 가져옵니다.\n",
        "        g_size = adj.shape[0]\n",
        "\n",
        "        # 큰 인접 행렬에 각 그래프의 인접 행렬을 배치합니다.\n",
        "        batch_adj[accum:accum+g_size, accum:accum+g_size] = adj\n",
        "        accum += g_size\n",
        "\n",
        "    # 최종적으로 생성된 통합 그래프의 표현과 레이블을 딕셔너리 형태로 반환합니다.\n",
        "    repr_and_label = {\n",
        "            'A': batch_adj,\n",
        "            'X': feat_mats,\n",
        "            'y': labels,\n",
        "            'batch': batch_mat}\n",
        "\n",
        "    return repr_and_label\n"
      ],
      "metadata": {
        "id": "yOEfq5Qv1VSs"
      },
      "execution_count": 14,
      "outputs": []
    },
    {
      "cell_type": "markdown",
      "source": [
        "## DataLoader 준비"
      ],
      "metadata": {
        "id": "9afC9Bmt8J7d"
      }
    },
    {
      "cell_type": "code",
      "source": [
        "# NetworkX로 생성된 그래프 'G' 에 대한 전처리\n",
        "\n",
        "def get_graph_dict(G, mapping_dict):\n",
        "\n",
        "    # 네트워크X 그래프 G의 딕셔너리 표현을 생성하는 함수\n",
        "    A = torch.from_numpy(np.asarray(nx.adjacency_matrix(G).todense())).float()\n",
        "\n",
        "    # 첫 번째 예제 그래프에서 소개된 build_graph_color_label_representation() 함수 사용\n",
        "    X = torch.from_numpy(build_graph_color_label_representation(G, mapping_dict)).float()\n",
        "\n",
        "    # 실제 작업이 없으므로 레이블을 임의로 설정\n",
        "    y = torch.tensor([[1,0]]).float()\n",
        "    return {'A': A, 'X': X, 'y': y, 'batch': None}\n"
      ],
      "metadata": {
        "id": "GTz0a56b1Wyr"
      },
      "execution_count": 15,
      "outputs": []
    },
    {
      "cell_type": "code",
      "source": [
        "# 데이터셋으로 처리할 4개의 그래프 생성\n",
        "blue, orange, green = \"#1f77b4\", \"#ff7f0e\",\"#2ca02c\"\n",
        "mapping_dict = {green: 0, blue: 1, orange: 2}\n",
        "\n",
        "# 첫 번째 그래프 G1 생성\n",
        "G1 = nx.Graph()\n",
        "# G1에 노드 추가. 각 노드에는 색깔을 나타내는 속성 부여\n",
        "G1.add_nodes_from([\n",
        "    (1, {\"color\": blue}),\n",
        "    (2, {\"color\": orange}),\n",
        "    (3, {\"color\": blue}),\n",
        "    (4, {\"color\": green})\n",
        "])\n",
        "# G1에 간선 추가. 각 숫자 쌍은 연결된 노드를 나타냄\n",
        "G1.add_edges_from([(1, 2), (2, 3), (1, 3), (3, 4)])\n",
        "\n",
        "# 두 번째 그래프 G2 생성 및 노드와 간선 추가\n",
        "G2 = nx.Graph()\n",
        "G2.add_nodes_from([\n",
        "    (1, {\"color\": green}),\n",
        "    (2, {\"color\": green}),\n",
        "    (3, {\"color\": orange}),\n",
        "    (4, {\"color\": orange}),\n",
        "    (5, {\"color\": blue})\n",
        "])\n",
        "G2.add_edges_from([(2, 3), (3, 4), (3, 1), (5, 1)])\n",
        "\n",
        "# 세 번째 그래프 G3 생성 및 노드와 간선 추가\n",
        "G3 = nx.Graph()\n",
        "G3.add_nodes_from([\n",
        "    (1, {\"color\": orange}),\n",
        "    (2, {\"color\": orange}),\n",
        "    (3, {\"color\": green}),\n",
        "    (4, {\"color\": green}),\n",
        "    (5, {\"color\": blue}),\n",
        "    (6, {\"color\": orange})\n",
        "])\n",
        "G3.add_edges_from([(2, 3), (3, 4), (3, 1), (5, 1), (2, 5), (6, 1)])\n",
        "\n",
        "# 네 번째 그래프 G4 생성 및 노드와 간선 추가\n",
        "G4 = nx.Graph()\n",
        "G4.add_nodes_from([\n",
        "    (1, {\"color\": blue}),\n",
        "    (2, {\"color\": blue}),\n",
        "    (3, {\"color\": green})\n",
        "])\n",
        "G4.add_edges_from([(1, 2), (2, 3)])\n",
        "\n",
        "# 각 그래프를 딕셔너리 형태로 변환하여 리스트에 저장\n",
        "graph_list = [get_graph_dict(graph, mapping_dict) for graph in [G1, G2, G3, G4]]\n",
        "\n",
        "\n",
        "import matplotlib.pyplot as plt\n",
        "import networkx as nx\n",
        "\n",
        "# 그래프 시각화 함수\n",
        "def visualize_graph(G, title):\n",
        "    plt.figure(figsize=(5, 5))\n",
        "    colors = [G.nodes[node]['color'] for node in G.nodes()]\n",
        "    nx.draw(G, with_labels=True, node_color=colors, node_size=700, font_size=10)\n",
        "    plt.title(title)\n",
        "\n",
        "# 각 그래프 시각화\n",
        "visualize_graph(G1, \"Graph 1\")\n",
        "visualize_graph(G2, \"Graph 2\")\n",
        "visualize_graph(G3, \"Graph 3\")\n",
        "visualize_graph(G4, \"Graph 4\")\n"
      ],
      "metadata": {
        "colab": {
          "base_uri": "https://localhost:8080/",
          "height": 1000
        },
        "id": "pEcHPjYx8Oci",
        "outputId": "68f458ec-e8b8-4efa-81be-62e6477fc6a0"
      },
      "execution_count": 16,
      "outputs": [
        {
          "output_type": "display_data",
          "data": {
            "text/plain": [
              "<Figure size 500x500 with 1 Axes>"
            ],
            "image/png": "[encoded data removed]"
          },
          "metadata": {}
        },
        {
          "output_type": "display_data",
          "data": {
            "text/plain": [
              "<Figure size 500x500 with 1 Axes>"
            ],
            "image/png": "[encoded data removed]"
          },
          "metadata": {}
        },
        {
          "output_type": "display_data",
          "data": {
            "text/plain": [
              "<Figure size 500x500 with 1 Axes>"
            ],
            "image/png": "[encoded data removed]"
          },
          "metadata": {}
        },
        {
          "output_type": "display_data",
          "data": {
            "text/plain": [
              "<Figure size 500x500 with 1 Axes>"
            ],
            "image/png": "[encoded data removed]"
          },
          "metadata": {}
        }
      ]
    },
    {
      "cell_type": "code",
      "source": [
        "from torch.utils.data import Dataset\n",
        "from torch.utils.data import DataLoader\n",
        "\n",
        "class ExampleDataset(Dataset):\n",
        "\n",
        "    # ExampleDataset 클래스는 PyTorch의 Dataset 클래스를 상속받아 정의됩니다.\n",
        "    # 이 클래스는 그래프 목록을 사용하여 간단한 PyTorch 데이터셋을 생성합니다.\n",
        "\n",
        "    def __init__(self, graph_list):\n",
        "        # 생성자에서는 그래프 리스트를 받아 객체의 graphs 속성에 저장합니다.\n",
        "        # 이 리스트는 그래프의 딕셔너리 형태의 표현들을 포함합니다.\n",
        "        self.graphs = graph_list\n",
        "\n",
        "    def __len__(self):\n",
        "        # __len__ 메서드는 데이터셋의 총 길이(그래프의 개수)를 반환합니다.\n",
        "        return len(self.graphs)\n",
        "\n",
        "    def __getitem__(self, idx):\n",
        "        # __getitem__ 메서드는 주어진 인덱스(idx)에 해당하는 그래프를 반환합니다.\n",
        "        # 이 메서드는 DataLoader가 데이터셋에서 데이터를 추출하는 데 사용됩니다.\n",
        "        mol_rep = self.graphs[idx]\n",
        "        return mol_rep\n"
      ],
      "metadata": {
        "id": "xCkPPBy-Df5V"
      },
      "execution_count": 17,
      "outputs": []
    },
    {
      "cell_type": "code",
      "source": [
        "# 사용자 정의 데이터셋 'ExampleDataset'을 사용하여 데이터셋 객체 생성\n",
        "dset = ExampleDataset(graph_list)\n",
        "\n",
        "# DataLoader를 사용하여 데이터셋에서 데이터를 배치 단위로 불러오는 설정\n",
        "loader = DataLoader(\n",
        "    dset,                 # 불러올 데이터셋\n",
        "    batch_size=2,         # 한 번에 불러올 데이터의 수 (배치 크기)\n",
        "    shuffle=False,        # 데이터를 섞지 않음 (순차적으로 불러옴)\n",
        "    collate_fn=collate_graphs  # 사용자 정의 데이터 결합 함수\n",
        ")\n"
      ],
      "metadata": {
        "id": "t_eZzpFRG--u"
      },
      "execution_count": 18,
      "outputs": []
    },
    {
      "cell_type": "markdown",
      "source": [
        "## NodeNetwork을 사용한 예측"
      ],
      "metadata": {
        "id": "PHIUllUcJyRN"
      }
    },
    {
      "cell_type": "code",
      "source": [
        "# 난수 생성기의 시드 값을 설정\n",
        "torch.manual_seed(123)\n",
        "\n",
        "# 노드 특성 수 설정\n",
        "node_features = 3\n",
        "\n",
        "# 사용자 정의 그래프 신경망 모델 'NodeNetwork' 초기화\n",
        "net = NodeNetwork(node_features)\n"
      ],
      "metadata": {
        "id": "fIkVUvltJgkZ"
      },
      "execution_count": 19,
      "outputs": []
    },
    {
      "cell_type": "code",
      "source": [
        "# 결과를 저장할 빈 리스트 생성\n",
        "batch_results = []\n",
        "\n",
        "#배치 단위 예측\n",
        "# 데이터 로더를 통해 각 배치 데이터에 대해 반복\n",
        "for b in loader:\n",
        "\n",
        "    # DataLoader를 통해 배치 데이터를 순회하면서 예측 수행\n",
        "    batch_results.append(net(b['X'], b['A'], b['batch']).detach())\n",
        "\n",
        "#단일 그래프 예측\n",
        "# 데이터셋에서 첫 번째 그래프 데이터 추출\n",
        "G1_rep = dset[1]\n",
        "\n",
        "# 단일 그래프 데이터에 대한 모델의 결과 계산\n",
        "G1_single = net(G1_rep['X'], G1_rep['A'], G1_rep['batch']).detach()\n",
        "\n",
        "\n",
        "# 첫 번째 배치의 결과 추출\n",
        "G1_batch = batch_results[0][1]\n",
        "\n",
        "\n",
        "# 단일 그래프 데이터의 결과와 첫 번째 배치 결과가 동일한지 비교\n",
        "torch.all(torch.isclose(G1_single, G1_batch))\n"
      ],
      "metadata": {
        "colab": {
          "base_uri": "https://localhost:8080/"
        },
        "id": "5LSTB_IaL93h",
        "outputId": "c1b93f9e-6c0b-4065-c342-d11ea4036048"
      },
      "execution_count": 20,
      "outputs": [
        {
          "output_type": "execute_result",
          "data": {
            "text/plain": [
              "tensor(True)"
            ]
          },
          "metadata": {},
          "execution_count": 20
        }
      ]
    },
    {
      "cell_type": "code",
      "source": [],
      "metadata": {
        "id": "-GeVKLkwd8sd"
      },
      "execution_count": 20,
      "outputs": []
    }
  ]
}