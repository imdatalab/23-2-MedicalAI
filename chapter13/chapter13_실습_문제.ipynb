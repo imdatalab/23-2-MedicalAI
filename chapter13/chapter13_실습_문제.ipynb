{
  "nbformat": 4,
  "nbformat_minor": 0,
  "metadata": {
    "colab": {
      "provenance": []
    },
    "kernelspec": {
      "name": "python3",
      "display_name": "Python 3"
    },
    "language_info": {
      "name": "python"
    }
  },
  "cells": [
    {
      "cell_type": "code",
      "execution_count": 1,
      "metadata": {
        "id": "8U7OpeEr4Flk"
      },
      "outputs": [],
      "source": [
        "import torch\n",
        "import pandas as pd\n",
        "import torch.nn as nn"
      ]
    },
    {
      "cell_type": "markdown",
      "source": [
        "\n",
        "\n",
        "*   age : 나이\n",
        "*   anaemia : 적혈구 또는 헤모글로빈 감소 여부\n",
        "*   creatinine_phosphokinase : 혈중 CPK 효소 수치(mcg/L)\n",
        "*   diabetes : 당뇨 여부\n",
        "*   ejection_fraction : 수축할 때마다 심장에서 빠져나가는 혈액의 비율(백분율)\n",
        "* high_blood_pressure : 고혈압 여부\n",
        "* platelets : 혈중 혈소판(/mL)\n",
        "* serum_crearinine : 혈중 크레아티닌 수치(mg/dL)\n",
        "* serum_sodium : 혈중 나트륨 수치(mEq/L)\n",
        "* sex : 성별\n",
        "* smoking : 나이\n",
        "* DEATH_EVENT : Target\n",
        "\n",
        "\n"
      ],
      "metadata": {
        "id": "vC2QJaCD7LSC"
      }
    },
    {
      "cell_type": "code",
      "source": [
        "df = pd.read_csv('./heart_failure_dataset.csv')"
      ],
      "metadata": {
        "id": "QDXRumJq4Mct"
      },
      "execution_count": 7,
      "outputs": []
    },
    {
      "cell_type": "code",
      "source": [
        "df.isnull().sum()"
      ],
      "metadata": {
        "colab": {
          "base_uri": "https://localhost:8080/"
        },
        "id": "EYTSAfus8KvS",
        "outputId": "4889c4be-d4da-4fa2-8c74-303b1add2ff3"
      },
      "execution_count": 8,
      "outputs": [
        {
          "output_type": "execute_result",
          "data": {
            "text/plain": [
              "age                         0\n",
              "anaemia                     0\n",
              "creatinine_phosphokinase    0\n",
              "diabetes                    0\n",
              "ejection_fraction           0\n",
              "high_blood_pressure         0\n",
              "platelets                   0\n",
              "serum_creatinine            0\n",
              "serum_sodium                0\n",
              "sex                         0\n",
              "smoking                     0\n",
              "DEATH_EVENT                 0\n",
              "dtype: int64"
            ]
          },
          "metadata": {},
          "execution_count": 8
        }
      ]
    },
    {
      "cell_type": "code",
      "source": [
        "import sklearn\n",
        "import sklearn.model_selection\n",
        "\n",
        "df_train, df_test = sklearn.model_selection.train_test_split(df, train_size=0.8, random_state=42)\n",
        "\n",
        "train_X = df_train.drop('DEATH_EVENT', axis=1)\n",
        "train_y = df_train['DEATH_EVENT'].to_numpy()\n",
        "test_X = df_test.drop('DEATH_EVENT', axis=1)\n",
        "test_y = df_test['DEATH_EVENT'].to_numpy()\n",
        "\n",
        "from sklearn.preprocessing import StandardScaler\n",
        "scale = StandardScaler()\n",
        "train_X_sc = scale.fit_transform(train_X)\n",
        "test_X_sc = scale.transform(test_X)\n",
        "\n",
        "train_X_sc = torch.tensor(train_X_sc).float()\n",
        "train_y = torch.tensor(train_y).float()\n",
        "test_X_sc = torch.tensor(test_X_sc).float()\n",
        "test_y = torch.tensor(test_y).float()"
      ],
      "metadata": {
        "id": "U8M9eTm99PKg"
      },
      "execution_count": 9,
      "outputs": []
    },
    {
      "cell_type": "code",
      "source": [
        "from torch.utils.data import DataLoader, TensorDataset\n",
        "\n",
        "train_ds = TensorDataset(train_X_sc, train_y)\n",
        "batch_size = 2\n",
        "torch.manual_seed(1)\n",
        "train_dl = DataLoader(train_ds, batch_size, shuffle=True)"
      ],
      "metadata": {
        "id": "GdwplQT3-c0F"
      },
      "execution_count": 10,
      "outputs": []
    },
    {
      "cell_type": "markdown",
      "source": [
        "# layer 구성 및 학습 진행"
      ],
      "metadata": {
        "id": "gOKbdLeoQsiY"
      }
    },
    {
      "cell_type": "code",
      "source": [
        "hidden_list=[[16,8],[4]]\n",
        "input_size = train_X_sc.shape[1]\n",
        "all_layers = []\n",
        "for hidden_units in hidden_list:\n",
        "  for hidden_unit in hidden_units:\n",
        "      layer = nn.Linear(input_size, hidden_unit)\n",
        "      all_layers.append(layer)\n",
        "      all_layers.append(nn.ReLU())\n",
        "      input_size = hidden_unit\n",
        "all_layers.append(nn.Linear(hidden_list[-1][-1], 1))\n",
        "all_layers.append(nn.Sigmoid())\n",
        "model = nn.Sequential(*all_layers)\n",
        "nn.init.xavier_uniform_(model[0].weight)\n",
        "model"
      ],
      "metadata": {
        "colab": {
          "base_uri": "https://localhost:8080/"
        },
        "id": "vQJ0ck-C-twU",
        "outputId": "79fce25f-ee26-41bd-f431-63f5ade33b51"
      },
      "execution_count": 11,
      "outputs": [
        {
          "output_type": "execute_result",
          "data": {
            "text/plain": [
              "Sequential(\n",
              "  (0): Linear(in_features=11, out_features=16, bias=True)\n",
              "  (1): ReLU()\n",
              "  (2): Linear(in_features=16, out_features=8, bias=True)\n",
              "  (3): ReLU()\n",
              "  (4): Linear(in_features=8, out_features=4, bias=True)\n",
              "  (5): ReLU()\n",
              "  (6): Linear(in_features=4, out_features=1, bias=True)\n",
              "  (7): Sigmoid()\n",
              ")"
            ]
          },
          "metadata": {},
          "execution_count": 11
        }
      ]
    },
    {
      "cell_type": "code",
      "source": [
        "loss_fn = nn.BCELoss()\n",
        "optimizer = torch.optim.SGD(model.parameters(), lr=0.01)\n",
        "\n",
        "num_epochs = 100\n",
        "print_count = 10\n",
        "boundaries = torch.tensor([0.5])\n",
        "\n",
        "for epoch in range(num_epochs):\n",
        "    loss_hist_train = 0\n",
        "    for x_batch, y_batch in train_dl:\n",
        "        pred = model(x_batch)[:, 0] # 1차원 형태의 변환\n",
        "        loss = loss_fn(pred, y_batch)\n",
        "        loss.backward()\n",
        "        optimizer.step()\n",
        "        optimizer.zero_grad()\n",
        "        loss_hist_train += loss.item()\n",
        "\n",
        "    if epoch % print_count == 0:\n",
        "        print(f'Epoch {epoch}  Loss {loss_hist_train / len(train_dl):.4f}')"
      ],
      "metadata": {
        "colab": {
          "base_uri": "https://localhost:8080/"
        },
        "id": "CQWD_Vf9_sW9",
        "outputId": "7f01ed26-bc2b-4d36-ad1f-d5bdc02a6052"
      },
      "execution_count": 12,
      "outputs": [
        {
          "output_type": "stream",
          "name": "stdout",
          "text": [
            "Epoch 0  Loss 0.6821\n",
            "Epoch 10  Loss 0.5692\n",
            "Epoch 20  Loss 0.4766\n",
            "Epoch 30  Loss 0.4124\n",
            "Epoch 40  Loss 0.3706\n",
            "Epoch 50  Loss 0.3352\n",
            "Epoch 60  Loss 0.3098\n",
            "Epoch 70  Loss 0.2745\n",
            "Epoch 80  Loss 0.2348\n",
            "Epoch 90  Loss 0.2066\n"
          ]
        }
      ]
    },
    {
      "cell_type": "code",
      "source": [
        "from sklearn.metrics import confusion_matrix\n",
        "\n",
        "with torch.no_grad():\n",
        "  pred = model(test_X_sc)\n",
        "\n",
        "confusion_matrix(test_y, pred.round())"
      ],
      "metadata": {
        "colab": {
          "base_uri": "https://localhost:8080/"
        },
        "id": "wNFh-HirBAQU",
        "outputId": "6e838b56-d543-465a-915c-68fe068713b0"
      },
      "execution_count": 13,
      "outputs": [
        {
          "output_type": "execute_result",
          "data": {
            "text/plain": [
              "array([[27,  8],\n",
              "       [13, 12]])"
            ]
          },
          "metadata": {},
          "execution_count": 13
        }
      ]
    },
    {
      "cell_type": "markdown",
      "source": [
        "\n",
        "\n",
        "# 문제 : 그렇다면, 위 와 같은 layer 구선 및 학습 진행 코드를 클래스로 바꿔보시오!\n",
        "\n"
      ],
      "metadata": {
        "id": "TU3NJIzWQeG1"
      }
    },
    {
      "cell_type": "code",
      "source": [
        "import torch\n",
        "import torch.nn as nn\n",
        "\n",
        "class MyModule(nn.Module):\n",
        "    def __init__(self, input_size, hidden_list, output_size):\n",
        "        super(MyModule, self).__init__()\n",
        "        all_layers = []\n",
        "        \"\"\"\n",
        "        입력란\n",
        "        \"\"\"\n",
        "        self.module_list = nn.ModuleList(all_layers)\n",
        "\n",
        "    def forward(self, x):\n",
        "        \"\"\"\n",
        "        입력란\n",
        "        \"\"\"\n",
        "        return x\n",
        "\n",
        "    def predict(self, x):\n",
        "        \"\"\"\n",
        "        입력란\n",
        "        \"\"\"\n",
        "        return (pred >= 0.5).float()\n",
        "\n",
        "# Assuming your original architecture was 2 input units, 4 hidden units, and 1 output unit\n",
        "input_size = train_X_sc.shape[1]\n",
        "hidden_units = [[16,8],[4]]\n",
        "output_size = 1\n",
        "\n",
        "model = MyModule(input_size, hidden_units, output_size)\n",
        "print(model)\n"
      ],
      "metadata": {
        "colab": {
          "base_uri": "https://localhost:8080/"
        },
        "id": "h-U-x8eOBS89",
        "outputId": "113fc73c-4f25-4a21-dce4-8d205b3c712d"
      },
      "execution_count": null,
      "outputs": [
        {
          "output_type": "stream",
          "name": "stdout",
          "text": [
            "MyModule(\n",
            "  (module_list): ModuleList(\n",
            "    (0): Linear(in_features=11, out_features=16, bias=True)\n",
            "    (1): ReLU()\n",
            "    (2): Linear(in_features=16, out_features=8, bias=True)\n",
            "    (3): ReLU()\n",
            "    (4): Linear(in_features=8, out_features=4, bias=True)\n",
            "    (5): ReLU()\n",
            "    (6): Linear(in_features=4, out_features=1, bias=True)\n",
            "    (7): Sigmoid()\n",
            "  )\n",
            ")\n"
          ]
        }
      ]
    },
    {
      "cell_type": "code",
      "source": [
        "\"\"\"\n",
        "입력란\n",
        "\"\"\"\n",
        "num_epochs = 100\n",
        "print_count = 10\n",
        "\n",
        "for epoch in range(num_epochs):\n",
        "    loss_hist_train = 0\n",
        "    for x_batch, y_batch in train_dl:\n",
        "        \"\"\"\n",
        "        입력란\n",
        "        \"\"\"\n",
        "\n",
        "    if epoch % print_count == 0:\n",
        "        print(f'Epoch {epoch}  Loss {loss_hist_train / len(train_dl):.4f}')\n"
      ],
      "metadata": {
        "colab": {
          "base_uri": "https://localhost:8080/"
        },
        "id": "Liv4nbdtSRbC",
        "outputId": "17b3d7dc-8dc4-41bc-d392-ce57ad8cd608"
      },
      "execution_count": null,
      "outputs": [
        {
          "output_type": "stream",
          "name": "stdout",
          "text": [
            "Epoch 0  Loss 0.7713\n",
            "Epoch 10  Loss 0.6065\n",
            "Epoch 20  Loss 0.6031\n",
            "Epoch 30  Loss 0.5322\n",
            "Epoch 40  Loss 0.4617\n",
            "Epoch 50  Loss 0.4230\n",
            "Epoch 60  Loss 0.3912\n",
            "Epoch 70  Loss 0.3547\n",
            "Epoch 80  Loss 0.2983\n",
            "Epoch 90  Loss 0.2591\n"
          ]
        }
      ]
    },
    {
      "cell_type": "code",
      "source": [
        "from sklearn.metrics import confusion_matrix\n",
        "\n",
        "confusion_matrix(test_y, \"입력란\")"
      ],
      "metadata": {
        "colab": {
          "base_uri": "https://localhost:8080/"
        },
        "id": "jN5-FQoJTFFe",
        "outputId": "14a02654-2e72-4864-f170-7e973ef099a5"
      },
      "execution_count": null,
      "outputs": [
        {
          "output_type": "execute_result",
          "data": {
            "text/plain": [
              "array([[27,  8],\n",
              "       [13, 12]])"
            ]
          },
          "metadata": {},
          "execution_count": 95
        }
      ]
    },
    {
      "cell_type": "code",
      "source": [],
      "metadata": {
        "id": "VlNU_Ex1TmFc"
      },
      "execution_count": null,
      "outputs": []
    }
  ]
}